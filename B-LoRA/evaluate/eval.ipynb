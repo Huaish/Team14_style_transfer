{
 "cells": [
  {
   "cell_type": "code",
   "execution_count": 2,
   "metadata": {},
   "outputs": [],
   "source": [
    "def highlight_best(data):\n",
    "    best_color = 'green'\n",
    "    second_best_color = 'orange'\n",
    "    best_attr = f'background-color: {best_color}'\n",
    "    second_best_attr = f'background-color: {second_best_color}; color: black'\n",
    "    \n",
    "    def extract_value(val):\n",
    "        # if string\n",
    "        if isinstance(val, str):\n",
    "            return float(val.split('±')[0].strip())\n",
    "        else:\n",
    "            return val\n",
    "    \n",
    "    if data.ndim == 1:  # Single row or column (Series)\n",
    "        # Highlight based on whether the metric prefers min or max\n",
    "        col_name = data.name.lower()\n",
    "        if 'loss' in col_name or 'fid' in col_name:\n",
    "            sorted_data = data.apply(extract_value).sort_values()\n",
    "        else:\n",
    "            sorted_data = data.apply(extract_value).sort_values(ascending=False)\n",
    "        best = sorted_data.iloc[0]\n",
    "        second_best = sorted_data.iloc[1]\n",
    "        return [best_attr if v == best else second_best_attr if v == second_best else '' for v in data.apply(extract_value)]\n",
    "    else:  # DataFrame case\n",
    "        styled_df = pd.DataFrame('', index=data.index, columns=data.columns)\n",
    "        for col in data.columns:\n",
    "            col_name = col.lower()\n",
    "            if 'loss' in col_name or 'fid' in col_name:\n",
    "                sorted_data = data[col].apply(extract_value).sort_values()\n",
    "            else:\n",
    "                sorted_data = data[col].apply(extract_value).sort_values(ascending=False)\n",
    "            best = sorted_data.iloc[0]\n",
    "            second_best = sorted_data.iloc[1]\n",
    "            styled_df.loc[data[col].apply(extract_value) == best, col] = best_attr\n",
    "            styled_df.loc[data[col].apply(extract_value) == second_best, col] = second_best_attr\n",
    "        return styled_df"
   ]
  },
  {
   "cell_type": "code",
   "execution_count": 8,
   "metadata": {},
   "outputs": [
    {
     "data": {
      "text/html": [
       "<style type=\"text/css\">\n",
       "#T_c1e1c_row0_col2, #T_c1e1c_row1_col3, #T_c1e1c_row2_col4, #T_c1e1c_row2_col5, #T_c1e1c_row3_col1 {\n",
       "  background-color: orange;\n",
       "  color: black;\n",
       "}\n",
       "#T_c1e1c_row0_col5, #T_c1e1c_row2_col1, #T_c1e1c_row3_col2, #T_c1e1c_row3_col3, #T_c1e1c_row3_col4 {\n",
       "  background-color: green;\n",
       "}\n",
       "</style>\n",
       "<table id=\"T_c1e1c\">\n",
       "  <thead>\n",
       "    <tr>\n",
       "      <th class=\"blank level0\" >&nbsp;</th>\n",
       "      <th id=\"T_c1e1c_level0_col0\" class=\"col_heading level0 col0\" >method</th>\n",
       "      <th id=\"T_c1e1c_level0_col1\" class=\"col_heading level0 col1\" >style_loss</th>\n",
       "      <th id=\"T_c1e1c_level0_col2\" class=\"col_heading level0 col2\" >style_similarity</th>\n",
       "      <th id=\"T_c1e1c_level0_col3\" class=\"col_heading level0 col3\" >content_loss</th>\n",
       "      <th id=\"T_c1e1c_level0_col4\" class=\"col_heading level0 col4\" >content_similarity</th>\n",
       "      <th id=\"T_c1e1c_level0_col5\" class=\"col_heading level0 col5\" >fid</th>\n",
       "    </tr>\n",
       "  </thead>\n",
       "  <tbody>\n",
       "    <tr>\n",
       "      <th id=\"T_c1e1c_level0_row0\" class=\"row_heading level0 row0\" >0</th>\n",
       "      <td id=\"T_c1e1c_row0_col0\" class=\"data row0 col0\" >original</td>\n",
       "      <td id=\"T_c1e1c_row0_col1\" class=\"data row0 col1\" >0.995 ± 1.692</td>\n",
       "      <td id=\"T_c1e1c_row0_col2\" class=\"data row0 col2\" >0.355 ± 0.061</td>\n",
       "      <td id=\"T_c1e1c_row0_col3\" class=\"data row0 col3\" >19.372 ± 7.782</td>\n",
       "      <td id=\"T_c1e1c_row0_col4\" class=\"data row0 col4\" >0.150 ± 0.031</td>\n",
       "      <td id=\"T_c1e1c_row0_col5\" class=\"data row0 col5\" >26.659 ± 31.600</td>\n",
       "    </tr>\n",
       "    <tr>\n",
       "      <th id=\"T_c1e1c_level0_row1\" class=\"row_heading level0 row1\" >1</th>\n",
       "      <td id=\"T_c1e1c_row1_col0\" class=\"data row1 col0\" >lab_transfer</td>\n",
       "      <td id=\"T_c1e1c_row1_col1\" class=\"data row1 col1\" >1.038 ± 1.691</td>\n",
       "      <td id=\"T_c1e1c_row1_col2\" class=\"data row1 col2\" >0.350 ± 0.054</td>\n",
       "      <td id=\"T_c1e1c_row1_col3\" class=\"data row1 col3\" >18.030 ± 6.160</td>\n",
       "      <td id=\"T_c1e1c_row1_col4\" class=\"data row1 col4\" >0.151 ± 0.028</td>\n",
       "      <td id=\"T_c1e1c_row1_col5\" class=\"data row1 col5\" >39.869 ± 64.897</td>\n",
       "    </tr>\n",
       "    <tr>\n",
       "      <th id=\"T_c1e1c_level0_row2\" class=\"row_heading level0 row2\" >2</th>\n",
       "      <td id=\"T_c1e1c_row2_col0\" class=\"data row2 col0\" >luv_transfer</td>\n",
       "      <td id=\"T_c1e1c_row2_col1\" class=\"data row2 col1\" >0.943 ± 1.608</td>\n",
       "      <td id=\"T_c1e1c_row2_col2\" class=\"data row2 col2\" >0.352 ± 0.052</td>\n",
       "      <td id=\"T_c1e1c_row2_col3\" class=\"data row2 col3\" >18.105 ± 6.529</td>\n",
       "      <td id=\"T_c1e1c_row2_col4\" class=\"data row2 col4\" >0.153 ± 0.031</td>\n",
       "      <td id=\"T_c1e1c_row2_col5\" class=\"data row2 col5\" >32.842 ± 44.045</td>\n",
       "    </tr>\n",
       "    <tr>\n",
       "      <th id=\"T_c1e1c_level0_row3\" class=\"row_heading level0 row3\" >3</th>\n",
       "      <td id=\"T_c1e1c_row3_col0\" class=\"data row3 col0\" >pca_transfer</td>\n",
       "      <td id=\"T_c1e1c_row3_col1\" class=\"data row3 col1\" >0.944 ± 1.817</td>\n",
       "      <td id=\"T_c1e1c_row3_col2\" class=\"data row3 col2\" >0.358 ± 0.054</td>\n",
       "      <td id=\"T_c1e1c_row3_col3\" class=\"data row3 col3\" >17.933 ± 6.389</td>\n",
       "      <td id=\"T_c1e1c_row3_col4\" class=\"data row3 col4\" >0.156 ± 0.033</td>\n",
       "      <td id=\"T_c1e1c_row3_col5\" class=\"data row3 col5\" >38.342 ± 68.599</td>\n",
       "    </tr>\n",
       "  </tbody>\n",
       "</table>\n"
      ],
      "text/plain": [
       "<pandas.io.formats.style.Styler at 0x779775f4eab0>"
      ]
     },
     "execution_count": 8,
     "metadata": {},
     "output_type": "execute_result"
    }
   ],
   "source": [
    "import pandas as pd\n",
    "\n",
    "csv_file = \"/home/siangling/B-LoRA/evaluation_results.xlsx\"\n",
    "\n",
    "df = pd.read_excel(csv_file)\n",
    "metrics = df.columns[1:]\n",
    "df.style.apply(highlight_best, subset=metrics, axis=0)"
   ]
  }
 ],
 "metadata": {
  "kernelspec": {
   "display_name": "blora",
   "language": "python",
   "name": "python3"
  },
  "language_info": {
   "codemirror_mode": {
    "name": "ipython",
    "version": 3
   },
   "file_extension": ".py",
   "mimetype": "text/x-python",
   "name": "python",
   "nbconvert_exporter": "python",
   "pygments_lexer": "ipython3",
   "version": "3.12.7"
  }
 },
 "nbformat": 4,
 "nbformat_minor": 2
}
